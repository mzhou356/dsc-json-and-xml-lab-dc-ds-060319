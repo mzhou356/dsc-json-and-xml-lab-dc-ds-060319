{
 "cells": [
  {
   "cell_type": "markdown",
   "metadata": {},
   "source": [
    "# JSON and XML - Lab"
   ]
  },
  {
   "cell_type": "markdown",
   "metadata": {},
   "source": [
    "## Introduction\n",
    "\n",
    "In this lab, you'll practice navigating JSON and XML data structures."
   ]
  },
  {
   "cell_type": "markdown",
   "metadata": {},
   "source": [
    "## Objectives\n",
    "You will be able to:\n",
    "* Effectively use the JSON module to load and parse JSON documents\n",
    "* Read and access data stored in JSON and XML\n",
    "* Compare  and contrast the JSON and XML as data interchange types\n"
   ]
  },
  {
   "cell_type": "markdown",
   "metadata": {},
   "source": [
    "## XML"
   ]
  },
  {
   "cell_type": "code",
   "execution_count": 2,
   "metadata": {},
   "outputs": [],
   "source": [
    "import xml.etree.ElementTree as ET"
   ]
  },
  {
   "cell_type": "markdown",
   "metadata": {},
   "source": [
    "### Create an XML tree and retrieve the root tag."
   ]
  },
  {
   "cell_type": "code",
   "execution_count": 3,
   "metadata": {},
   "outputs": [],
   "source": [
    "#Your code here\n",
    "tree = ET.parse('nyc_2001_campaign_finance.xml')\n",
    "root = tree.getroot()"
   ]
  },
  {
   "cell_type": "markdown",
   "metadata": {},
   "source": [
    "### How many direct descendents does the root tag have?"
   ]
  },
  {
   "cell_type": "code",
   "execution_count": 16,
   "metadata": {},
   "outputs": [
    {
     "data": {
      "text/plain": [
       "1"
      ]
     },
     "execution_count": 16,
     "metadata": {},
     "output_type": "execute_result"
    }
   ],
   "source": [
    "#Answer: 1\n",
    "len(root.getchildren())"
   ]
  },
  {
   "cell_type": "markdown",
   "metadata": {},
   "source": [
    "### How many different types of tags are there within the entire XML file?"
   ]
  },
  {
   "cell_type": "code",
   "execution_count": 18,
   "metadata": {},
   "outputs": [
    {
     "name": "stdout",
     "output_type": "stream",
     "text": [
      "13\n"
     ]
    }
   ],
   "source": [
    "# Your code here\n",
    "tags = []\n",
    "for element in root.iter():\n",
    "    tags.append(element.tag)\n",
    "print(len(set(tags)))"
   ]
  },
  {
   "cell_type": "markdown",
   "metadata": {},
   "source": [
    "### Create a DataFrame listing the number of each type of tag. \n",
    "Sort the DataFrame in descending order by the tag count. The first entry should demonstrate there are 286 row tags in the XML file.   \n",
    "(Your DataFrame will be a single column, so could also be thought of as a Series.)"
   ]
  },
  {
   "cell_type": "code",
   "execution_count": 17,
   "metadata": {},
   "outputs": [],
   "source": [
    "import pandas as pd"
   ]
  },
  {
   "cell_type": "code",
   "execution_count": 19,
   "metadata": {},
   "outputs": [
    {
     "data": {
      "text/html": [
       "<div>\n",
       "<style scoped>\n",
       "    .dataframe tbody tr th:only-of-type {\n",
       "        vertical-align: middle;\n",
       "    }\n",
       "\n",
       "    .dataframe tbody tr th {\n",
       "        vertical-align: top;\n",
       "    }\n",
       "\n",
       "    .dataframe thead th {\n",
       "        text-align: right;\n",
       "    }\n",
       "</style>\n",
       "<table border=\"1\" class=\"dataframe\">\n",
       "  <thead>\n",
       "    <tr style=\"text-align: right;\">\n",
       "      <th></th>\n",
       "      <th>count</th>\n",
       "    </tr>\n",
       "  </thead>\n",
       "  <tbody>\n",
       "    <tr>\n",
       "      <th>row</th>\n",
       "      <td>286</td>\n",
       "    </tr>\n",
       "    <tr>\n",
       "      <th>candid</th>\n",
       "      <td>285</td>\n",
       "    </tr>\n",
       "    <tr>\n",
       "      <th>candname</th>\n",
       "      <td>285</td>\n",
       "    </tr>\n",
       "    <tr>\n",
       "      <th>canclass</th>\n",
       "      <td>285</td>\n",
       "    </tr>\n",
       "    <tr>\n",
       "      <th>election</th>\n",
       "      <td>284</td>\n",
       "    </tr>\n",
       "  </tbody>\n",
       "</table>\n",
       "</div>"
      ],
      "text/plain": [
       "          count\n",
       "row         286\n",
       "candid      285\n",
       "candname    285\n",
       "canclass    285\n",
       "election    284"
      ]
     },
     "execution_count": 19,
     "metadata": {},
     "output_type": "execute_result"
    }
   ],
   "source": [
    "#Your code here\n",
    "tags = {}\n",
    "for element in root.iter():\n",
    "    tags[element.tag] = tags.get(element.tag, 0) + 1\n",
    "df = pd.DataFrame.from_dict(tags, orient='index')\n",
    "df.columns = ['count']\n",
    "df = df.sort_values(by='count', ascending=False)\n",
    "df.head()"
   ]
  },
  {
   "cell_type": "markdown",
   "metadata": {},
   "source": [
    "## JSON"
   ]
  },
  {
   "cell_type": "markdown",
   "metadata": {},
   "source": [
    "### Open the same dataset from json"
   ]
  },
  {
   "cell_type": "code",
   "execution_count": 22,
   "metadata": {},
   "outputs": [],
   "source": [
    "#Your code here\n",
    "import json\n",
    "f = open('nyc_2001_campaign_finance.json')\n",
    "data = json.load(f)"
   ]
  },
  {
   "cell_type": "markdown",
   "metadata": {},
   "source": [
    "### What is the root data type of the json file?"
   ]
  },
  {
   "cell_type": "code",
   "execution_count": 23,
   "metadata": {},
   "outputs": [
    {
     "data": {
      "text/plain": [
       "dict"
      ]
     },
     "execution_count": 23,
     "metadata": {},
     "output_type": "execute_result"
    }
   ],
   "source": [
    "### Your code here\n",
    "type(data)"
   ]
  },
  {
   "cell_type": "markdown",
   "metadata": {},
   "source": [
    "### Navigate to the 'data' key of your loaded json object. What data type is this?"
   ]
  },
  {
   "cell_type": "code",
   "execution_count": 29,
   "metadata": {},
   "outputs": [
    {
     "data": {
      "text/plain": [
       "dict_keys(['meta', 'data'])"
      ]
     },
     "metadata": {},
     "output_type": "display_data"
    },
    {
     "data": {
      "text/plain": [
       "list"
      ]
     },
     "execution_count": 29,
     "metadata": {},
     "output_type": "execute_result"
    }
   ],
   "source": [
    "#Your code here\n",
    "display(data.keys())\n",
    "type(data['data'])"
   ]
  },
  {
   "cell_type": "markdown",
   "metadata": {},
   "source": [
    "### Preview the first entry from the value returned by the 'data' key above."
   ]
  },
  {
   "cell_type": "code",
   "execution_count": 28,
   "metadata": {},
   "outputs": [
    {
     "data": {
      "text/plain": [
       "[1,\n",
       " 'E3E9CC9F-7443-43F6-94AF-B5A0F802DBA1',\n",
       " 1,\n",
       " 1315925633,\n",
       " '392904',\n",
       " 1315925633,\n",
       " '392904',\n",
       " '{\\n  \"invalidCells\" : {\\n    \"1519001\" : \"TOTALPAY\",\\n    \"1518998\" : \"PRIMARYPAY\",\\n    \"1519000\" : \"RUNOFFPAY\",\\n    \"1518999\" : \"GENERALPAY\",\\n    \"1518994\" : \"OFFICECD\",\\n    \"1518996\" : \"OFFICEDIST\",\\n    \"1518991\" : \"ELECTION\"\\n  }\\n}',\n",
       " None,\n",
       " 'CANDID',\n",
       " 'CANDNAME',\n",
       " None,\n",
       " 'OFFICEBORO',\n",
       " None,\n",
       " 'CANCLASS',\n",
       " None,\n",
       " None,\n",
       " None,\n",
       " None]"
      ]
     },
     "execution_count": 28,
     "metadata": {},
     "output_type": "execute_result"
    }
   ],
   "source": [
    "#Your code here\n",
    "data['data'][0]"
   ]
  },
  {
   "cell_type": "markdown",
   "metadata": {},
   "source": [
    "### Preview the Entry under meta -> view -> columns (the keys of three successively nested dictionaries)"
   ]
  },
  {
   "cell_type": "code",
   "execution_count": 35,
   "metadata": {},
   "outputs": [
    {
     "data": {
      "text/plain": [
       "{'id': 75768836,\n",
       " 'name': 'OFFICECD',\n",
       " 'dataTypeName': 'number',\n",
       " 'fieldName': 'officecd',\n",
       " 'position': 5,\n",
       " 'renderTypeName': 'number',\n",
       " 'tableColumnId': 1518994,\n",
       " 'width': 196,\n",
       " 'cachedContents': {'non_null': 284,\n",
       "  'average': '4.700704225352113',\n",
       "  'largest': '5',\n",
       "  'null': 1,\n",
       "  'top': [{'item': '5', 'count': 20},\n",
       "   {'item': '1', 'count': 19},\n",
       "   {'item': '3', 'count': 18},\n",
       "   {'item': '4', 'count': 17},\n",
       "   {'item': '2', 'count': 16}],\n",
       "  'smallest': '1',\n",
       "  'sum': '1335'},\n",
       " 'format': {}}"
      ]
     },
     "execution_count": 35,
     "metadata": {},
     "output_type": "execute_result"
    }
   ],
   "source": [
    "data['meta']['view']['columns'][11]"
   ]
  },
  {
   "cell_type": "markdown",
   "metadata": {},
   "source": [
    "### Create a DataFrame from your json data\n",
    "The previous two questions previewed one entry from the data object within the json file, as well as the column details associated with that data from the meta entry within the json file. Both should have 19 entries. Create a DataFrame of the data. Be sure to use the information from the meta entry to add appropriate column names to your DataFrame."
   ]
  },
  {
   "cell_type": "code",
   "execution_count": 33,
   "metadata": {},
   "outputs": [
    {
     "data": {
      "text/html": [
       "<div>\n",
       "<style scoped>\n",
       "    .dataframe tbody tr th:only-of-type {\n",
       "        vertical-align: middle;\n",
       "    }\n",
       "\n",
       "    .dataframe tbody tr th {\n",
       "        vertical-align: top;\n",
       "    }\n",
       "\n",
       "    .dataframe thead th {\n",
       "        text-align: right;\n",
       "    }\n",
       "</style>\n",
       "<table border=\"1\" class=\"dataframe\">\n",
       "  <thead>\n",
       "    <tr style=\"text-align: right;\">\n",
       "      <th></th>\n",
       "      <th>cachedContents</th>\n",
       "      <th>dataTypeName</th>\n",
       "      <th>fieldName</th>\n",
       "      <th>flags</th>\n",
       "      <th>format</th>\n",
       "      <th>id</th>\n",
       "      <th>name</th>\n",
       "      <th>position</th>\n",
       "      <th>renderTypeName</th>\n",
       "      <th>tableColumnId</th>\n",
       "      <th>width</th>\n",
       "    </tr>\n",
       "  </thead>\n",
       "  <tbody>\n",
       "    <tr>\n",
       "      <th>0</th>\n",
       "      <td>NaN</td>\n",
       "      <td>meta_data</td>\n",
       "      <td>:sid</td>\n",
       "      <td>[hidden]</td>\n",
       "      <td>{}</td>\n",
       "      <td>-1</td>\n",
       "      <td>sid</td>\n",
       "      <td>0</td>\n",
       "      <td>meta_data</td>\n",
       "      <td>NaN</td>\n",
       "      <td>NaN</td>\n",
       "    </tr>\n",
       "    <tr>\n",
       "      <th>1</th>\n",
       "      <td>NaN</td>\n",
       "      <td>meta_data</td>\n",
       "      <td>:id</td>\n",
       "      <td>[hidden]</td>\n",
       "      <td>{}</td>\n",
       "      <td>-1</td>\n",
       "      <td>id</td>\n",
       "      <td>0</td>\n",
       "      <td>meta_data</td>\n",
       "      <td>NaN</td>\n",
       "      <td>NaN</td>\n",
       "    </tr>\n",
       "    <tr>\n",
       "      <th>2</th>\n",
       "      <td>NaN</td>\n",
       "      <td>meta_data</td>\n",
       "      <td>:position</td>\n",
       "      <td>[hidden]</td>\n",
       "      <td>{}</td>\n",
       "      <td>-1</td>\n",
       "      <td>position</td>\n",
       "      <td>0</td>\n",
       "      <td>meta_data</td>\n",
       "      <td>NaN</td>\n",
       "      <td>NaN</td>\n",
       "    </tr>\n",
       "    <tr>\n",
       "      <th>3</th>\n",
       "      <td>NaN</td>\n",
       "      <td>meta_data</td>\n",
       "      <td>:created_at</td>\n",
       "      <td>[hidden]</td>\n",
       "      <td>{}</td>\n",
       "      <td>-1</td>\n",
       "      <td>created_at</td>\n",
       "      <td>0</td>\n",
       "      <td>meta_data</td>\n",
       "      <td>NaN</td>\n",
       "      <td>NaN</td>\n",
       "    </tr>\n",
       "    <tr>\n",
       "      <th>4</th>\n",
       "      <td>NaN</td>\n",
       "      <td>meta_data</td>\n",
       "      <td>:created_meta</td>\n",
       "      <td>[hidden]</td>\n",
       "      <td>{}</td>\n",
       "      <td>-1</td>\n",
       "      <td>created_meta</td>\n",
       "      <td>0</td>\n",
       "      <td>meta_data</td>\n",
       "      <td>NaN</td>\n",
       "      <td>NaN</td>\n",
       "    </tr>\n",
       "    <tr>\n",
       "      <th>5</th>\n",
       "      <td>NaN</td>\n",
       "      <td>meta_data</td>\n",
       "      <td>:updated_at</td>\n",
       "      <td>[hidden]</td>\n",
       "      <td>{}</td>\n",
       "      <td>-1</td>\n",
       "      <td>updated_at</td>\n",
       "      <td>0</td>\n",
       "      <td>meta_data</td>\n",
       "      <td>NaN</td>\n",
       "      <td>NaN</td>\n",
       "    </tr>\n",
       "    <tr>\n",
       "      <th>6</th>\n",
       "      <td>NaN</td>\n",
       "      <td>meta_data</td>\n",
       "      <td>:updated_meta</td>\n",
       "      <td>[hidden]</td>\n",
       "      <td>{}</td>\n",
       "      <td>-1</td>\n",
       "      <td>updated_meta</td>\n",
       "      <td>0</td>\n",
       "      <td>meta_data</td>\n",
       "      <td>NaN</td>\n",
       "      <td>NaN</td>\n",
       "    </tr>\n",
       "    <tr>\n",
       "      <th>7</th>\n",
       "      <td>NaN</td>\n",
       "      <td>meta_data</td>\n",
       "      <td>:meta</td>\n",
       "      <td>[hidden]</td>\n",
       "      <td>{}</td>\n",
       "      <td>-1</td>\n",
       "      <td>meta</td>\n",
       "      <td>0</td>\n",
       "      <td>meta_data</td>\n",
       "      <td>NaN</td>\n",
       "      <td>NaN</td>\n",
       "    </tr>\n",
       "    <tr>\n",
       "      <th>8</th>\n",
       "      <td>{'non_null': 284, 'average': '2001', 'largest'...</td>\n",
       "      <td>number</td>\n",
       "      <td>election</td>\n",
       "      <td>NaN</td>\n",
       "      <td>{'precisionStyle': 'standard', 'noCommas': 'tr...</td>\n",
       "      <td>75768833</td>\n",
       "      <td>ELECTION</td>\n",
       "      <td>2</td>\n",
       "      <td>number</td>\n",
       "      <td>1518991.0</td>\n",
       "      <td>196.0</td>\n",
       "    </tr>\n",
       "    <tr>\n",
       "      <th>9</th>\n",
       "      <td>{'non_null': 285, 'largest': 'YA', 'null': 0, ...</td>\n",
       "      <td>text</td>\n",
       "      <td>candid</td>\n",
       "      <td>NaN</td>\n",
       "      <td>{}</td>\n",
       "      <td>75768834</td>\n",
       "      <td>CANDID</td>\n",
       "      <td>3</td>\n",
       "      <td>text</td>\n",
       "      <td>1518992.0</td>\n",
       "      <td>172.0</td>\n",
       "    </tr>\n",
       "    <tr>\n",
       "      <th>10</th>\n",
       "      <td>{'non_null': 285, 'largest': 'Zett, Lori M', '...</td>\n",
       "      <td>text</td>\n",
       "      <td>candname</td>\n",
       "      <td>NaN</td>\n",
       "      <td>{}</td>\n",
       "      <td>75768835</td>\n",
       "      <td>CANDNAME</td>\n",
       "      <td>4</td>\n",
       "      <td>text</td>\n",
       "      <td>1518993.0</td>\n",
       "      <td>196.0</td>\n",
       "    </tr>\n",
       "    <tr>\n",
       "      <th>11</th>\n",
       "      <td>{'non_null': 284, 'average': '4.70070422535211...</td>\n",
       "      <td>number</td>\n",
       "      <td>officecd</td>\n",
       "      <td>NaN</td>\n",
       "      <td>{}</td>\n",
       "      <td>75768836</td>\n",
       "      <td>OFFICECD</td>\n",
       "      <td>5</td>\n",
       "      <td>number</td>\n",
       "      <td>1518994.0</td>\n",
       "      <td>196.0</td>\n",
       "    </tr>\n",
       "    <tr>\n",
       "      <th>12</th>\n",
       "      <td>{'non_null': 21, 'largest': 'X', 'null': 264, ...</td>\n",
       "      <td>text</td>\n",
       "      <td>officeboro</td>\n",
       "      <td>NaN</td>\n",
       "      <td>{}</td>\n",
       "      <td>75768837</td>\n",
       "      <td>OFFICEBORO</td>\n",
       "      <td>6</td>\n",
       "      <td>text</td>\n",
       "      <td>1518995.0</td>\n",
       "      <td>220.0</td>\n",
       "    </tr>\n",
       "    <tr>\n",
       "      <th>13</th>\n",
       "      <td>{'non_null': 245, 'average': '26.3306122448979...</td>\n",
       "      <td>number</td>\n",
       "      <td>officedist</td>\n",
       "      <td>NaN</td>\n",
       "      <td>{}</td>\n",
       "      <td>75768838</td>\n",
       "      <td>OFFICEDIST</td>\n",
       "      <td>7</td>\n",
       "      <td>number</td>\n",
       "      <td>1518996.0</td>\n",
       "      <td>220.0</td>\n",
       "    </tr>\n",
       "    <tr>\n",
       "      <th>14</th>\n",
       "      <td>{'non_null': 285, 'largest': 'P', 'null': 0, '...</td>\n",
       "      <td>text</td>\n",
       "      <td>canclass</td>\n",
       "      <td>NaN</td>\n",
       "      <td>{}</td>\n",
       "      <td>75768839</td>\n",
       "      <td>CANCLASS</td>\n",
       "      <td>8</td>\n",
       "      <td>text</td>\n",
       "      <td>1518997.0</td>\n",
       "      <td>196.0</td>\n",
       "    </tr>\n",
       "    <tr>\n",
       "      <th>15</th>\n",
       "      <td>{'non_null': 284, 'average': '112243.961267605...</td>\n",
       "      <td>number</td>\n",
       "      <td>primarypay</td>\n",
       "      <td>NaN</td>\n",
       "      <td>{}</td>\n",
       "      <td>75768840</td>\n",
       "      <td>PRIMARYPAY</td>\n",
       "      <td>9</td>\n",
       "      <td>number</td>\n",
       "      <td>1518998.0</td>\n",
       "      <td>220.0</td>\n",
       "    </tr>\n",
       "    <tr>\n",
       "      <th>16</th>\n",
       "      <td>{'non_null': 284, 'average': '28753.5739436619...</td>\n",
       "      <td>number</td>\n",
       "      <td>generalpay</td>\n",
       "      <td>NaN</td>\n",
       "      <td>{}</td>\n",
       "      <td>75768841</td>\n",
       "      <td>GENERALPAY</td>\n",
       "      <td>10</td>\n",
       "      <td>number</td>\n",
       "      <td>1518999.0</td>\n",
       "      <td>220.0</td>\n",
       "    </tr>\n",
       "    <tr>\n",
       "      <th>17</th>\n",
       "      <td>{'non_null': 284, 'average': '7776.77816901408...</td>\n",
       "      <td>number</td>\n",
       "      <td>runoffpay</td>\n",
       "      <td>NaN</td>\n",
       "      <td>{}</td>\n",
       "      <td>75768842</td>\n",
       "      <td>RUNOFFPAY</td>\n",
       "      <td>11</td>\n",
       "      <td>number</td>\n",
       "      <td>1519000.0</td>\n",
       "      <td>208.0</td>\n",
       "    </tr>\n",
       "    <tr>\n",
       "      <th>18</th>\n",
       "      <td>{'non_null': 284, 'average': '148774.313380281...</td>\n",
       "      <td>number</td>\n",
       "      <td>totalpay</td>\n",
       "      <td>NaN</td>\n",
       "      <td>{}</td>\n",
       "      <td>75768843</td>\n",
       "      <td>TOTALPAY</td>\n",
       "      <td>12</td>\n",
       "      <td>number</td>\n",
       "      <td>1519001.0</td>\n",
       "      <td>196.0</td>\n",
       "    </tr>\n",
       "  </tbody>\n",
       "</table>\n",
       "</div>"
      ],
      "text/plain": [
       "                                       cachedContents dataTypeName  \\\n",
       "0                                                 NaN    meta_data   \n",
       "1                                                 NaN    meta_data   \n",
       "2                                                 NaN    meta_data   \n",
       "3                                                 NaN    meta_data   \n",
       "4                                                 NaN    meta_data   \n",
       "5                                                 NaN    meta_data   \n",
       "6                                                 NaN    meta_data   \n",
       "7                                                 NaN    meta_data   \n",
       "8   {'non_null': 284, 'average': '2001', 'largest'...       number   \n",
       "9   {'non_null': 285, 'largest': 'YA', 'null': 0, ...         text   \n",
       "10  {'non_null': 285, 'largest': 'Zett, Lori M', '...         text   \n",
       "11  {'non_null': 284, 'average': '4.70070422535211...       number   \n",
       "12  {'non_null': 21, 'largest': 'X', 'null': 264, ...         text   \n",
       "13  {'non_null': 245, 'average': '26.3306122448979...       number   \n",
       "14  {'non_null': 285, 'largest': 'P', 'null': 0, '...         text   \n",
       "15  {'non_null': 284, 'average': '112243.961267605...       number   \n",
       "16  {'non_null': 284, 'average': '28753.5739436619...       number   \n",
       "17  {'non_null': 284, 'average': '7776.77816901408...       number   \n",
       "18  {'non_null': 284, 'average': '148774.313380281...       number   \n",
       "\n",
       "        fieldName     flags  \\\n",
       "0            :sid  [hidden]   \n",
       "1             :id  [hidden]   \n",
       "2       :position  [hidden]   \n",
       "3     :created_at  [hidden]   \n",
       "4   :created_meta  [hidden]   \n",
       "5     :updated_at  [hidden]   \n",
       "6   :updated_meta  [hidden]   \n",
       "7           :meta  [hidden]   \n",
       "8        election       NaN   \n",
       "9          candid       NaN   \n",
       "10       candname       NaN   \n",
       "11       officecd       NaN   \n",
       "12     officeboro       NaN   \n",
       "13     officedist       NaN   \n",
       "14       canclass       NaN   \n",
       "15     primarypay       NaN   \n",
       "16     generalpay       NaN   \n",
       "17      runoffpay       NaN   \n",
       "18       totalpay       NaN   \n",
       "\n",
       "                                               format        id          name  \\\n",
       "0                                                  {}        -1           sid   \n",
       "1                                                  {}        -1            id   \n",
       "2                                                  {}        -1      position   \n",
       "3                                                  {}        -1    created_at   \n",
       "4                                                  {}        -1  created_meta   \n",
       "5                                                  {}        -1    updated_at   \n",
       "6                                                  {}        -1  updated_meta   \n",
       "7                                                  {}        -1          meta   \n",
       "8   {'precisionStyle': 'standard', 'noCommas': 'tr...  75768833      ELECTION   \n",
       "9                                                  {}  75768834        CANDID   \n",
       "10                                                 {}  75768835      CANDNAME   \n",
       "11                                                 {}  75768836      OFFICECD   \n",
       "12                                                 {}  75768837    OFFICEBORO   \n",
       "13                                                 {}  75768838    OFFICEDIST   \n",
       "14                                                 {}  75768839      CANCLASS   \n",
       "15                                                 {}  75768840    PRIMARYPAY   \n",
       "16                                                 {}  75768841    GENERALPAY   \n",
       "17                                                 {}  75768842     RUNOFFPAY   \n",
       "18                                                 {}  75768843      TOTALPAY   \n",
       "\n",
       "    position renderTypeName  tableColumnId  width  \n",
       "0          0      meta_data            NaN    NaN  \n",
       "1          0      meta_data            NaN    NaN  \n",
       "2          0      meta_data            NaN    NaN  \n",
       "3          0      meta_data            NaN    NaN  \n",
       "4          0      meta_data            NaN    NaN  \n",
       "5          0      meta_data            NaN    NaN  \n",
       "6          0      meta_data            NaN    NaN  \n",
       "7          0      meta_data            NaN    NaN  \n",
       "8          2         number      1518991.0  196.0  \n",
       "9          3           text      1518992.0  172.0  \n",
       "10         4           text      1518993.0  196.0  \n",
       "11         5         number      1518994.0  196.0  \n",
       "12         6           text      1518995.0  220.0  \n",
       "13         7         number      1518996.0  220.0  \n",
       "14         8           text      1518997.0  196.0  \n",
       "15         9         number      1518998.0  220.0  \n",
       "16        10         number      1518999.0  220.0  \n",
       "17        11         number      1519000.0  208.0  \n",
       "18        12         number      1519001.0  196.0  "
      ]
     },
     "execution_count": 33,
     "metadata": {},
     "output_type": "execute_result"
    }
   ],
   "source": [
    "#Your code here\n",
    "pd.(data['meta']['view']['columns'])"
   ]
  },
  {
   "cell_type": "markdown",
   "metadata": {},
   "source": [
    "### What's wrong with the first row of the DataFrame?"
   ]
  },
  {
   "cell_type": "code",
   "execution_count": null,
   "metadata": {},
   "outputs": [],
   "source": [
    "#Your code here"
   ]
  },
  {
   "cell_type": "markdown",
   "metadata": {},
   "source": [
    "#Your answer here"
   ]
  },
  {
   "cell_type": "markdown",
   "metadata": {},
   "source": [
    "## Summary\n",
    "\n",
    "Congratulations! You've started exploring some more complicated data structures used for the web and got to practice data munging and exploring!"
   ]
  }
 ],
 "metadata": {
  "kernelspec": {
   "display_name": "Python 3",
   "language": "python",
   "name": "python3"
  },
  "language_info": {
   "codemirror_mode": {
    "name": "ipython",
    "version": 3
   },
   "file_extension": ".py",
   "mimetype": "text/x-python",
   "name": "python",
   "nbconvert_exporter": "python",
   "pygments_lexer": "ipython3",
   "version": "3.6.6"
  }
 },
 "nbformat": 4,
 "nbformat_minor": 2
}
